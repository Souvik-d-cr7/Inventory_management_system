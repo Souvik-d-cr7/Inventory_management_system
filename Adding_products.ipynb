{
 "cells": [
  {
   "cell_type": "markdown",
   "metadata": {},
   "source": [
    "# Read data from Json"
   ]
  },
  {
   "cell_type": "code",
   "execution_count": 1,
   "metadata": {},
   "outputs": [],
   "source": [
    "import json\n",
    "fd = open(\"record.json\",\"r\")\n",
    "r = fd.read()\n",
    "fd.close()\n",
    "\n",
    "record = json.loads(r)"
   ]
  },
  {
   "cell_type": "code",
   "execution_count": 2,
   "metadata": {},
   "outputs": [
    {
     "data": {
      "text/plain": [
       "{'1001': {'name': 'Choco Cake', 'qn': 34, 'pr': 100},\n",
       " '1002': {'name': 'Milk Cake', 'pr': 800, 'qn': 150},\n",
       " '1003': {'name': 'Drink', 'pr': 85, 'qn': 98},\n",
       " '1004': {'name': 'Candy', 'pr': 5, 'qn': 1000},\n",
       " '1005': {'name': 'Pen', 'pr': 20, 'qn': 49},\n",
       " '1006': {'name': 'Phone', 'pr': 50000, 'qn': 40},\n",
       " '1007': {'name': 'Mic', 'pr': 1500, 'qn': 190},\n",
       " '1008': {'name': 'Case', 'pr': 599, 'qn': 5},\n",
       " '1009': {'name': 'Keyboard', 'pr': 1999, 'qn': 10},\n",
       " '1010': {'name': 'Laptop', 'pr': 70000, 'qn': 5},\n",
       " '1011': {'name': 'coke', 'pr': 20, 'qn': 50},\n",
       " '1012': {'name': 'Biscuits', 'pr': 30, 'qn': 100},\n",
       " '1013': {'name': 'Mango', 'pr': 10, 'qn': 200},\n",
       " '1014': {'name': 'Orange', 'pr': 10, 'qn': 150},\n",
       " '1015': {'name': 'Apple', 'pr': 20, 'qn': 76},\n",
       " '1016': {'name': 'Strawbery', 'pr': 20, 'qn': 500},\n",
       " '1017': {'name': 'Banana', 'pr': 5, 'qn': 200},\n",
       " '1018': {'name': 'Chips', 'pr': 5, 'qn': 50},\n",
       " '1019': {'name': 'Water', 'pr': 20, 'qn': 200},\n",
       " '1020': {'name': 'Butter cake', 'pr': 50, 'qn': 100},\n",
       " '1021': {'name': 'panner', 'pr': 200, 'qn': 50},\n",
       " '1022': {'name': 'Rice', 'pr': 500, 'qn': 100},\n",
       " '1023': {'name': 'Camera', 'pr': 80000, 'qn': 10},\n",
       " '1024': {'name': 'pencil', 'pr': 5, 'qn': 50},\n",
       " '1025': {'name': 'Dairy Milk', 'pr': 40, 'qn': 50},\n",
       " '1026': {'name': 'Kitkat', 'pr': 25, 'qn': 50},\n",
       " '1027': {'name': 'nuts', 'pr': 250, 'qn': 50},\n",
       " '1028': {'name': 'Face Wash', 'pr': 100, 'qn': 10},\n",
       " '1029': {'name': 'watch', 'pr': 200, 'qn': 346},\n",
       " '1030': {'name': 'sun glass', 'pr': 200, 'qn': 95},\n",
       " '1031': {'name': 'Fruits', 'pr': 100, 'qn': 50}}"
      ]
     },
     "execution_count": 2,
     "metadata": {},
     "output_type": "execute_result"
    }
   ],
   "source": [
    "record"
   ]
  },
  {
   "cell_type": "markdown",
   "metadata": {},
   "source": [
    "# Add Same product "
   ]
  },
  {
   "cell_type": "code",
   "execution_count": 5,
   "metadata": {},
   "outputs": [
    {
     "name": "stdout",
     "output_type": "stream",
     "text": [
      "Enter the product id : 1010\n",
      "Enter the product name : Laptop\n",
      "Enter the quantity of product : 5\n",
      "Enter the price of product : 70000\n"
     ]
    }
   ],
   "source": [
    "product_id = input(\"Enter the product id : \")\n",
    "product_name = input(\"Enter the product name : \")\n",
    "product_Quantity = int(input(\"Enter the quantity of product : \"))\n",
    "product_price = int(input(\"Enter the price of product : \"))\n",
    "\n",
    "for i in record.keys():\n",
    "    if(i == product_id):\n",
    "        total_product = record[product_id]['qn'] + product_Quantity\n",
    "        record[product_id] = {'name':product_name,'pr':product_price,'qn':total_product}\n",
    "\n",
    "        \n",
    "js = json.dumps(record)\n",
    "fd = open(\"record.json\",'w')\n",
    "fd.write(js)\n",
    "fd.close()  "
   ]
  },
  {
   "cell_type": "markdown",
   "metadata": {},
   "source": [
    "# Add Different Product"
   ]
  },
  {
   "cell_type": "code",
   "execution_count": 7,
   "metadata": {},
   "outputs": [
    {
     "name": "stdout",
     "output_type": "stream",
     "text": [
      "Enter the product id : 1032\n",
      "Enter the product name : Butter Cake\n",
      "Enter the quantity of product : 50\n",
      "Enter the price of product : 50\n"
     ]
    }
   ],
   "source": [
    "product_id = input(\"Enter the product id : \")\n",
    "product_name = input(\"Enter the product name : \")\n",
    "product_Quantity = int(input(\"Enter the quantity of product : \"))\n",
    "product_price = int(input(\"Enter the price of product : \"))\n",
    "\n",
    "record[product_id] = {'name':product_name,'pr':product_price,'qn':product_Quantity}\n",
    "        \n",
    "js = json.dumps(record)\n",
    "fd = open(\"record.json\",'w')\n",
    "fd.write(js)\n",
    "fd.close()  "
   ]
  },
  {
   "cell_type": "code",
   "execution_count": 8,
   "metadata": {},
   "outputs": [
    {
     "data": {
      "text/plain": [
       "{'1001': {'name': 'Choco Cake', 'qn': 34, 'pr': 100},\n",
       " '1002': {'name': 'Milk Cake', 'pr': 800, 'qn': 150},\n",
       " '1003': {'name': 'Drink', 'pr': 85, 'qn': 98},\n",
       " '1004': {'name': 'Candy', 'pr': 5, 'qn': 1000},\n",
       " '1005': {'name': 'Pen', 'pr': 20, 'qn': 49},\n",
       " '1006': {'name': 'Phone', 'pr': 50000, 'qn': 40},\n",
       " '1007': {'name': 'Mic', 'pr': 1500, 'qn': 190},\n",
       " '1008': {'name': 'Case', 'pr': 599, 'qn': 5},\n",
       " '1009': {'name': 'Keyboard', 'pr': 1999, 'qn': 10},\n",
       " '1010': {'name': 'Laptop', 'pr': 70000, 'qn': 15},\n",
       " '1011': {'name': 'coke', 'pr': 20, 'qn': 50},\n",
       " '1012': {'name': 'Biscuits', 'pr': 30, 'qn': 100},\n",
       " '1013': {'name': 'Mango', 'pr': 10, 'qn': 200},\n",
       " '1014': {'name': 'Orange', 'pr': 10, 'qn': 150},\n",
       " '1015': {'name': 'Apple', 'pr': 20, 'qn': 76},\n",
       " '1016': {'name': 'Strawbery', 'pr': 20, 'qn': 500},\n",
       " '1017': {'name': 'Banana', 'pr': 5, 'qn': 200},\n",
       " '1018': {'name': 'Chips', 'pr': 5, 'qn': 50},\n",
       " '1019': {'name': 'Water', 'pr': 20, 'qn': 200},\n",
       " '1020': {'name': 'Butter cake', 'pr': 50, 'qn': 100},\n",
       " '1021': {'name': 'panner', 'pr': 200, 'qn': 50},\n",
       " '1022': {'name': 'Rice', 'pr': 500, 'qn': 100},\n",
       " '1023': {'name': 'Camera', 'pr': 80000, 'qn': 10},\n",
       " '1024': {'name': 'pencil', 'pr': 5, 'qn': 50},\n",
       " '1025': {'name': 'Dairy Milk', 'pr': 40, 'qn': 50},\n",
       " '1026': {'name': 'Kitkat', 'pr': 25, 'qn': 50},\n",
       " '1027': {'name': 'nuts', 'pr': 250, 'qn': 50},\n",
       " '1028': {'name': 'Face Wash', 'pr': 100, 'qn': 10},\n",
       " '1029': {'name': 'watch', 'pr': 200, 'qn': 346},\n",
       " '1030': {'name': 'sun glass', 'pr': 200, 'qn': 95},\n",
       " '1031': {'name': 'Fruits', 'pr': 100, 'qn': 50},\n",
       " '1032': {'name': 'Butter Cake', 'pr': 50, 'qn': 50}}"
      ]
     },
     "execution_count": 8,
     "metadata": {},
     "output_type": "execute_result"
    }
   ],
   "source": [
    "record"
   ]
  }
 ],
 "metadata": {
  "kernelspec": {
   "display_name": "Python 3",
   "language": "python",
   "name": "python3"
  },
  "language_info": {
   "codemirror_mode": {
    "name": "ipython",
    "version": 3
   },
   "file_extension": ".py",
   "mimetype": "text/x-python",
   "name": "python",
   "nbconvert_exporter": "python",
   "pygments_lexer": "ipython3",
   "version": "3.7.6"
  }
 },
 "nbformat": 4,
 "nbformat_minor": 4
}
