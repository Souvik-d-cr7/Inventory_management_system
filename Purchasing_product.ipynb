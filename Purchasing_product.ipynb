{
 "cells": [
  {
   "cell_type": "code",
   "execution_count": 1,
   "metadata": {},
   "outputs": [],
   "source": [
    "import json\n",
    "fd = open(\"record.json\",'r')\n",
    "r = fd.read()\n",
    "fd.close()\n",
    "\n",
    "records = json.loads(r)"
   ]
  },
  {
   "cell_type": "code",
   "execution_count": 2,
   "metadata": {},
   "outputs": [
    {
     "data": {
      "text/plain": [
       "{'1001': {'name': 'Choco Cake', 'qn': 34, 'pr': 100},\n",
       " '1002': {'name': 'Milk Cake', 'pr': 800, 'qn': 150},\n",
       " '1003': {'name': 'Drink', 'pr': 85, 'qn': 98},\n",
       " '1004': {'name': 'Candy', 'pr': 5, 'qn': 1000},\n",
       " '1005': {'name': 'Pen', 'pr': 20, 'qn': 49},\n",
       " '1006': {'name': 'Phone', 'pr': 50000, 'qn': 40},\n",
       " '1007': {'name': 'Mic', 'pr': 1500, 'qn': 190},\n",
       " '1008': {'name': 'Case', 'pr': 599, 'qn': 5},\n",
       " '1009': {'name': 'Keyboard', 'pr': 1999, 'qn': 10},\n",
       " '1010': {'name': 'Laptop', 'pr': 70000, 'qn': 15},\n",
       " '1011': {'name': 'coke', 'pr': 20, 'qn': 50},\n",
       " '1012': {'name': 'Biscuits', 'pr': 30, 'qn': 100},\n",
       " '1013': {'name': 'Mango', 'pr': 10, 'qn': 200},\n",
       " '1014': {'name': 'Orange', 'pr': 10, 'qn': 150},\n",
       " '1015': {'name': 'Apple', 'pr': 20, 'qn': 76},\n",
       " '1016': {'name': 'Strawbery', 'pr': 20, 'qn': 500},\n",
       " '1017': {'name': 'Banana', 'pr': 5, 'qn': 200},\n",
       " '1018': {'name': 'Chips', 'pr': 5, 'qn': 50},\n",
       " '1019': {'name': 'Water', 'pr': 20, 'qn': 200},\n",
       " '1020': {'name': 'Butter cake', 'pr': 50, 'qn': 100},\n",
       " '1021': {'name': 'panner', 'pr': 200, 'qn': 50},\n",
       " '1022': {'name': 'Rice', 'pr': 500, 'qn': 100},\n",
       " '1023': {'name': 'Camera', 'pr': 80000, 'qn': 10},\n",
       " '1024': {'name': 'pencil', 'pr': 5, 'qn': 50},\n",
       " '1025': {'name': 'Dairy Milk', 'pr': 40, 'qn': 50},\n",
       " '1026': {'name': 'Kitkat', 'pr': 25, 'qn': 50},\n",
       " '1027': {'name': 'nuts', 'pr': 250, 'qn': 50},\n",
       " '1028': {'name': 'Face Wash', 'pr': 100, 'qn': 10},\n",
       " '1029': {'name': 'watch', 'pr': 200, 'qn': 346},\n",
       " '1030': {'name': 'sun glass', 'pr': 200, 'qn': 95},\n",
       " '1031': {'name': 'Fruits', 'pr': 100, 'qn': 50},\n",
       " '1032': {'name': 'Butter Cake', 'pr': 50, 'qn': 50}}"
      ]
     },
     "execution_count": 2,
     "metadata": {},
     "output_type": "execute_result"
    }
   ],
   "source": [
    "records"
   ]
  },
  {
   "cell_type": "markdown",
   "metadata": {},
   "source": [
    "# purchasing bill"
   ]
  },
  {
   "cell_type": "code",
   "execution_count": 70,
   "metadata": {},
   "outputs": [
    {
     "name": "stdout",
     "output_type": "stream",
     "text": [
      "Enter the product_Id: 1027\n",
      "Enter the quantity: 5\n",
      "************Bill**************\n",
      "Product:  nuts\n",
      "Price:  250\n",
      "Billing Amount:  1250\n",
      "******************************\n"
     ]
    }
   ],
   "source": [
    "product_id  = str(input(\"Enter the product_Id: \"))\n",
    "product_quantity = int(input(\"Enter the quantity: \"))\n",
    "\n",
    "if(product_quantity > records[product_id]['qn']):\n",
    "    print(\"This quantity is not available\")\n",
    "else:\n",
    "    print(\"************Bill**************\")\n",
    "    print(\"Product: \", records[product_id]['name'])\n",
    "    print(\"Price: \", records[product_id]['pr'])\n",
    "    print(\"Billing Amount: \", records[product_id]['pr'] * product_quantity)\n",
    "    print(\"******************************\")\n",
    "\n",
    "    records[product_id]['qn'] = records[product_id]['qn'] - product_quantity"
   ]
  },
  {
   "cell_type": "markdown",
   "metadata": {},
   "source": [
    "# Update inventory"
   ]
  },
  {
   "cell_type": "code",
   "execution_count": 71,
   "metadata": {},
   "outputs": [],
   "source": [
    "js = json.dumps(records)\n",
    "fd = open(\"record.json\",'w')\n",
    "fd.write(js)\n",
    "fd.close()"
   ]
  },
  {
   "cell_type": "code",
   "execution_count": 72,
   "metadata": {},
   "outputs": [
    {
     "data": {
      "text/plain": [
       "{'1001': {'name': 'Choco Cake', 'qn': 34, 'pr': 100},\n",
       " '1002': {'name': 'Milk Cake', 'pr': 800, 'qn': 140},\n",
       " '1003': {'name': 'Drink', 'pr': 85, 'qn': 98},\n",
       " '1004': {'name': 'Candy', 'pr': 5, 'qn': 1000},\n",
       " '1005': {'name': 'Pen', 'pr': 20, 'qn': 44},\n",
       " '1006': {'name': 'Phone', 'pr': 50000, 'qn': 40},\n",
       " '1007': {'name': 'Mic', 'pr': 1500, 'qn': 190},\n",
       " '1008': {'name': 'Case', 'pr': 599, 'qn': 5},\n",
       " '1009': {'name': 'Keyboard', 'pr': 1999, 'qn': 0},\n",
       " '1010': {'name': 'Laptop', 'pr': 70000, 'qn': 13},\n",
       " '1011': {'name': 'coke', 'pr': 20, 'qn': 50},\n",
       " '1012': {'name': 'Biscuits', 'pr': 30, 'qn': 100},\n",
       " '1013': {'name': 'Mango', 'pr': 10, 'qn': 195},\n",
       " '1014': {'name': 'Orange', 'pr': 10, 'qn': 150},\n",
       " '1015': {'name': 'Apple', 'pr': 20, 'qn': 71},\n",
       " '1016': {'name': 'Strawbery', 'pr': 20, 'qn': 500},\n",
       " '1017': {'name': 'Banana', 'pr': 5, 'qn': 200},\n",
       " '1018': {'name': 'Chips', 'pr': 5, 'qn': 47},\n",
       " '1019': {'name': 'Water', 'pr': 20, 'qn': 200},\n",
       " '1020': {'name': 'Butter cake', 'pr': 50, 'qn': 98},\n",
       " '1021': {'name': 'panner', 'pr': 200, 'qn': 50},\n",
       " '1022': {'name': 'Rice', 'pr': 500, 'qn': 95},\n",
       " '1023': {'name': 'Camera', 'pr': 80000, 'qn': 10},\n",
       " '1024': {'name': 'pencil', 'pr': 5, 'qn': 50},\n",
       " '1025': {'name': 'Dairy Milk', 'pr': 40, 'qn': 50},\n",
       " '1026': {'name': 'Kitkat', 'pr': 25, 'qn': 50},\n",
       " '1027': {'name': 'nuts', 'pr': 250, 'qn': 45},\n",
       " '1028': {'name': 'Face Wash', 'pr': 100, 'qn': 8},\n",
       " '1029': {'name': 'watch', 'pr': 200, 'qn': 346},\n",
       " '1030': {'name': 'sun glass', 'pr': 200, 'qn': 95},\n",
       " '1031': {'name': 'Fruits', 'pr': 100, 'qn': 40},\n",
       " '1032': {'name': 'Butter Cake', 'pr': 50, 'qn': 45}}"
      ]
     },
     "execution_count": 72,
     "metadata": {},
     "output_type": "execute_result"
    }
   ],
   "source": [
    "records"
   ]
  },
  {
   "cell_type": "markdown",
   "metadata": {},
   "source": [
    "# Sales"
   ]
  },
  {
   "cell_type": "code",
   "execution_count": 27,
   "metadata": {},
   "outputs": [],
   "source": [
    "sales = {1 : {'prod':'product id','qn':'product quantity','Ammount': 'Total Ammount'}}"
   ]
  },
  {
   "cell_type": "code",
   "execution_count": 73,
   "metadata": {},
   "outputs": [],
   "source": [
    "sales[(len(sales)+1)] = {'prod':product_id,'qn':product_quantity,'Ammount':records[product_id]['pr']*product_quantity}\n",
    "sale = json.dumps(sales)\n",
    "md = open(\"sale.json\",'w')\n",
    "md.write(sale)\n",
    "md.close()"
   ]
  },
  {
   "cell_type": "code",
   "execution_count": 74,
   "metadata": {},
   "outputs": [
    {
     "data": {
      "text/plain": [
       "{1: {'prod': 'product id',\n",
       "  'qn': 'product quantity',\n",
       "  'Ammount': 'Total Ammount'},\n",
       " 2: {'prod': '1028', 'qn': 2, 'Ammount': 200},\n",
       " 3: {'prod': '1010', 'qn': 1, 'Ammount': 70000},\n",
       " 4: {'prod': '1015', 'qn': 5, 'Ammount': 100},\n",
       " 5: {'prod': '1020', 'qn': 2, 'Ammount': 100},\n",
       " 6: {'prod': '1005', 'qn': 5, 'Ammount': 100},\n",
       " 7: {'prod': '1018', 'qn': 3, 'Ammount': 15},\n",
       " 8: {'prod': '1022', 'qn': 5, 'Ammount': 2500},\n",
       " 9: {'prod': '1013', 'qn': 5, 'Ammount': 50},\n",
       " 10: {'prod': '1009', 'qn': 10, 'Ammount': 19990},\n",
       " 11: {'prod': '1027', 'qn': 5, 'Ammount': 1250}}"
      ]
     },
     "execution_count": 74,
     "metadata": {},
     "output_type": "execute_result"
    }
   ],
   "source": [
    "sales"
   ]
  },
  {
   "cell_type": "code",
   "execution_count": 75,
   "metadata": {},
   "outputs": [],
   "source": [
    "kd = open(\"sale.json\",'r')"
   ]
  },
  {
   "cell_type": "code",
   "execution_count": 76,
   "metadata": {},
   "outputs": [
    {
     "data": {
      "text/plain": [
       "'{\"1\": {\"prod\": \"product id\", \"qn\": \"product quantity\", \"Ammount\": \"Total Ammount\"}, \"2\": {\"prod\": \"1028\", \"qn\": 2, \"Ammount\": 200}, \"3\": {\"prod\": \"1010\", \"qn\": 1, \"Ammount\": 70000}, \"4\": {\"prod\": \"1015\", \"qn\": 5, \"Ammount\": 100}, \"5\": {\"prod\": \"1020\", \"qn\": 2, \"Ammount\": 100}, \"6\": {\"prod\": \"1005\", \"qn\": 5, \"Ammount\": 100}, \"7\": {\"prod\": \"1018\", \"qn\": 3, \"Ammount\": 15}, \"8\": {\"prod\": \"1022\", \"qn\": 5, \"Ammount\": 2500}, \"9\": {\"prod\": \"1013\", \"qn\": 5, \"Ammount\": 50}, \"10\": {\"prod\": \"1009\", \"qn\": 10, \"Ammount\": 19990}, \"11\": {\"prod\": \"1027\", \"qn\": 5, \"Ammount\": 1250}}'"
      ]
     },
     "execution_count": 76,
     "metadata": {},
     "output_type": "execute_result"
    }
   ],
   "source": [
    "kd.read()"
   ]
  }
 ],
 "metadata": {
  "kernelspec": {
   "display_name": "Python 3",
   "language": "python",
   "name": "python3"
  },
  "language_info": {
   "codemirror_mode": {
    "name": "ipython",
    "version": 3
   },
   "file_extension": ".py",
   "mimetype": "text/x-python",
   "name": "python",
   "nbconvert_exporter": "python",
   "pygments_lexer": "ipython3",
   "version": "3.7.6"
  }
 },
 "nbformat": 4,
 "nbformat_minor": 4
}
